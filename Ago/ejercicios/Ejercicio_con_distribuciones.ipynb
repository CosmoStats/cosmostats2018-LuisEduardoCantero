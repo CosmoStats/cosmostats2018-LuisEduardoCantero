{
 "cells": [
  {
   "cell_type": "markdown",
   "metadata": {},
   "source": [
    "# Para las distribuciones de Poisson, Distribucion Beta, Binomial y X^2, encontrar el CDF (Cumulative Function Distribution), media, mediana, moda, varianza y desviacion estandar."
   ]
  },
  {
   "cell_type": "code",
   "execution_count": 503,
   "metadata": {},
   "outputs": [],
   "source": [
    "# Aqui cargamos las liberias a usar\n",
    "\n",
    "import matplotlib.pyplot as plt\n",
    "import numpy as np\n",
    "import math\n",
    "%matplotlib inline"
   ]
  },
  {
   "cell_type": "markdown",
   "metadata": {},
   "source": [
    "## Poisson"
   ]
  },
  {
   "cell_type": "markdown",
   "metadata": {},
   "source": [
    "Guardamos 3 diferentes valores de media y tres valores diferentes de la variable 'x' para generar 3 graficas diferentes de la funcion de Poisson."
   ]
  },
  {
   "cell_type": "code",
   "execution_count": 523,
   "metadata": {},
   "outputs": [],
   "source": [
    "mu1 = 4\n",
    "mu2 = 25\n",
    "mu3 = 75\n",
    "\n",
    "xf = 25\n",
    "xf2 = 75\n",
    "xf3 = 120"
   ]
  },
  {
   "cell_type": "markdown",
   "metadata": {},
   "source": [
    "Para la variable 'x' generamos un arreglo para cada grafica. Tambien generamos un arreglo 'a' que contiene la evaluacion de la funcion de probabilidad de Poisson y un arreglo 'y' que contiene la funcion acumulada de la funcion de probabilidad de Possion de su correspondiente valor de media."
   ]
  },
  {
   "cell_type": "code",
   "execution_count": 524,
   "metadata": {},
   "outputs": [],
   "source": [
    "x=np.arange(0, xf, 1)\n",
    "x2=np.arange(0, xf2, 1)\n",
    "x3=np.arange(0, xf3, 1)\n",
    "a1 = np.empty(xf)\n",
    "y1 = np.empty(xf)\n",
    "a2 = np.empty(xf2)\n",
    "y2 = np.empty(xf2)\n",
    "a3 = np.empty(xf3)\n",
    "y3 = np.empty(xf3)"
   ]
  },
  {
   "cell_type": "code",
   "execution_count": 530,
   "metadata": {},
   "outputs": [],
   "source": [
    "i = 0\n",
    "for i in range(xf):\n",
    "    a1[i] = math.exp(-mu1)*math.pow(mu1,x[i])/math.factorial(x[i])"
   ]
  },
  {
   "cell_type": "code",
   "execution_count": 531,
   "metadata": {},
   "outputs": [],
   "source": [
    "j = 1\n",
    "y1[0] = a1[0]\n",
    "for j in range(1, xf):\n",
    "    y1[j] = a1[j] + y1[j-1]"
   ]
  },
  {
   "cell_type": "code",
   "execution_count": 532,
   "metadata": {},
   "outputs": [
    {
     "data": {
      "text/plain": [
       "array([1.83156389e-02, 7.32625556e-02, 1.46525111e-01, 1.95366815e-01,\n",
       "       1.95366815e-01, 1.56293452e-01, 1.04195635e-01, 5.95403626e-02,\n",
       "       2.97701813e-02, 1.32311917e-02, 5.29247668e-03, 1.92453697e-03,\n",
       "       6.41512324e-04, 1.97388408e-04, 5.63966879e-05, 1.50391168e-05,\n",
       "       3.75977919e-06, 8.84653927e-07, 1.96589762e-07, 4.13873182e-08,\n",
       "       8.27746365e-09, 1.57665974e-09, 2.86665408e-10, 4.98548535e-11,\n",
       "       8.30914225e-12])"
      ]
     },
     "execution_count": 532,
     "metadata": {},
     "output_type": "execute_result"
    }
   ],
   "source": [
    "a1"
   ]
  },
  {
   "cell_type": "code",
   "execution_count": 528,
   "metadata": {},
   "outputs": [
    {
     "data": {
      "text/plain": [
       "array([0.01831564, 0.09157819, 0.23810331, 0.43347012, 0.62883694,\n",
       "       0.78513039, 0.88932602, 0.94886638, 0.97863657, 0.99186776,\n",
       "       0.99716023, 0.99908477, 0.99972628, 0.99992367, 0.99998007,\n",
       "       0.99999511, 0.99999887, 0.99999975, 0.99999995, 0.99999999,\n",
       "       1.        , 1.        , 1.        , 1.        , 1.        ])"
      ]
     },
     "execution_count": 528,
     "metadata": {},
     "output_type": "execute_result"
    }
   ],
   "source": [
    "y1"
   ]
  },
  {
   "cell_type": "markdown",
   "metadata": {},
   "source": [
    "Graficamos el CDF y PDF de Possion."
   ]
  },
  {
   "cell_type": "code",
   "execution_count": 529,
   "metadata": {},
   "outputs": [
    {
     "data": {
      "text/plain": [
       "Text(0,0.5,'ACUMULADO')"
      ]
     },
     "execution_count": 529,
     "metadata": {},
     "output_type": "execute_result"
    },
    {
     "data": {
      "image/png": "[encoded data removed]",
      "text/plain": [
       "<Figure size 432x288 with 1 Axes>"
      ]
     },
     "metadata": {},
     "output_type": "display_data"
    }
   ],
   "source": [
    "plt.plot(x,y1, 'green', label=\"CDF POISSON\")\n",
    "plt.plot(x,a1, 'black', label=\"PDF POISSON\")\n",
    "plt.legend()\n",
    "plt.xlabel(\"EJE X\")\n",
    "plt.ylabel(\"ACUMULADO\")"
   ]
  },
  {
   "cell_type": "code",
   "execution_count": 533,
   "metadata": {},
   "outputs": [],
   "source": [
    "i = 0\n",
    "for i in range(xf2):\n",
    "    a2[i] = math.exp(-mu2)*math.pow(mu2,x2[i])/math.factorial(x2[i])"
   ]
  },
  {
   "cell_type": "code",
   "execution_count": 534,
   "metadata": {},
   "outputs": [],
   "source": [
    "j = 1\n",
    "y2[0] = a2[0]\n",
    "for j in range(1, xf2):\n",
    "    y2[j] = a2[j] + y2[j-1]"
   ]
  },
  {
   "cell_type": "code",
   "execution_count": 535,
   "metadata": {},
   "outputs": [
    {
     "data": {
      "text/plain": [
       "Text(0,0.5,'ACUMULADO')"
      ]
     },
     "execution_count": 535,
     "metadata": {},
     "output_type": "execute_result"
    },
    {
     "data": {
      "image/png": "[encoded data removed]",
      "text/plain": [
       "<Figure size 432x288 with 1 Axes>"
      ]
     },
     "metadata": {},
     "output_type": "display_data"
    }
   ],
   "source": [
    "plt.plot(x2,y2, 'green', label=\"CDF POISSON\")\n",
    "plt.plot(x2,a2, 'black', label=\"PDF POISSON\")\n",
    "plt.legend()\n",
    "plt.xlabel(\"EJE X\")\n",
    "plt.ylabel(\"ACUMULADO\")"
   ]
  },
  {
   "cell_type": "code",
   "execution_count": 536,
   "metadata": {},
   "outputs": [],
   "source": [
    "i = 0\n",
    "for i in range(xf3):\n",
    "    a3[i] = math.exp(-mu3)*math.pow(mu3,x3[i])/math.factorial(x3[i])"
   ]
  },
  {
   "cell_type": "code",
   "execution_count": 539,
   "metadata": {},
   "outputs": [],
   "source": [
    "j = 1\n",
    "y3[0] = a3[0]\n",
    "for j in range(1, xf3):\n",
    "    y3[j] = a3[j] + y3[j-1]"
   ]
  },
  {
   "cell_type": "code",
   "execution_count": 540,
   "metadata": {},
   "outputs": [
    {
     "data": {
      "text/plain": [
       "Text(0,0.5,'ACUMULADO')"
      ]
     },
     "execution_count": 540,
     "metadata": {},
     "output_type": "execute_result"
    },
    {
     "data": {
      "image/png": "[encoded data removed]",
      "text/plain": [
       "<Figure size 432x288 with 1 Axes>"
      ]
     },
     "metadata": {},
     "output_type": "display_data"
    }
   ],
   "source": [
    "plt.plot(x3,y3, 'green', label=\"CDF POISSON\")\n",
    "plt.plot(x3,a3, 'black', label=\"PDF POISSON\")\n",
    "plt.legend()\n",
    "plt.xlabel(\"EJE X\")\n",
    "plt.ylabel(\"ACUMULADO\")"
   ]
  },
  {
   "cell_type": "markdown",
   "metadata": {},
   "source": [
    "## Binomial"
   ]
  },
  {
   "cell_type": "code",
   "execution_count": 541,
   "metadata": {},
   "outputs": [],
   "source": [
    "n1 = 20\n",
    "p1 = 0.7\n",
    "q1 = 1 - p1"
   ]
  },
  {
   "cell_type": "code",
   "execution_count": 542,
   "metadata": {},
   "outputs": [],
   "source": [
    "xf4 = n1 + 1\n",
    "x4 = np.arange(0, xf4, 1)\n",
    "a4 = np.empty(xf4)\n",
    "y4 = np.empty(xf4)"
   ]
  },
  {
   "cell_type": "code",
   "execution_count": 543,
   "metadata": {},
   "outputs": [],
   "source": [
    "def comb(n, k):\n",
    "    c = math.factorial(n) / (math.factorial(k) * math.factorial((n-k)))\n",
    "    return c"
   ]
  },
  {
   "cell_type": "code",
   "execution_count": 544,
   "metadata": {},
   "outputs": [],
   "source": [
    "i = 0\n",
    "for i in range(0, xf4):\n",
    "    a4[i] = comb(n1,x4[i]) * math.pow(p1, x4[i]) * math.pow((1 - p1), (n1 - x4[i]))"
   ]
  },
  {
   "cell_type": "code",
   "execution_count": 545,
   "metadata": {},
   "outputs": [],
   "source": [
    "y4[0] = 0\n",
    "for j in range(1, xf4):\n",
    "    y4[j] =  a4[j] + y4[j - 1] "
   ]
  },
  {
   "cell_type": "code",
   "execution_count": 546,
   "metadata": {},
   "outputs": [
    {
     "data": {
      "text/plain": [
       "array([3.48678440e-11, 1.62716605e-09, 3.60688475e-08, 5.04963865e-07,\n",
       "       5.00755833e-06, 3.73897689e-05, 2.18106985e-04, 1.01783260e-03,\n",
       "       3.85928193e-03, 1.20066549e-02, 3.08170809e-02, 6.53695655e-02,\n",
       "       1.14396740e-01, 1.64261985e-01, 1.91638983e-01, 1.78863051e-01,\n",
       "       1.30420974e-01, 7.16036722e-02, 2.78458725e-02, 6.83933711e-03,\n",
       "       7.97922663e-04])"
      ]
     },
     "execution_count": 546,
     "metadata": {},
     "output_type": "execute_result"
    }
   ],
   "source": [
    "a4"
   ]
  },
  {
   "cell_type": "code",
   "execution_count": 547,
   "metadata": {},
   "outputs": [
    {
     "data": {
      "text/plain": [
       "array([0.00000000e+00, 1.62716605e-09, 3.76960136e-08, 5.42659879e-07,\n",
       "       5.55021821e-06, 4.29399871e-05, 2.61046972e-04, 1.27887957e-03,\n",
       "       5.13816150e-03, 1.71448164e-02, 4.79618973e-02, 1.13331463e-01,\n",
       "       2.27728203e-01, 3.91990188e-01, 5.83629171e-01, 7.62492221e-01,\n",
       "       8.92913195e-01, 9.64516868e-01, 9.92362740e-01, 9.99202077e-01,\n",
       "       1.00000000e+00])"
      ]
     },
     "execution_count": 547,
     "metadata": {},
     "output_type": "execute_result"
    }
   ],
   "source": [
    "y4"
   ]
  },
  {
   "cell_type": "code",
   "execution_count": 548,
   "metadata": {},
   "outputs": [
    {
     "data": {
      "text/plain": [
       "Text(0,0.5,'ACUMULADO')"
      ]
     },
     "execution_count": 548,
     "metadata": {},
     "output_type": "execute_result"
    },
    {
     "data": {
      "image/png": "[encoded data removed]",
      "text/plain": [
       "<Figure size 432x288 with 1 Axes>"
      ]
     },
     "metadata": {},
     "output_type": "display_data"
    }
   ],
   "source": [
    "plt.plot(x4,y4, 'green', label=\"CDF BINOMIAL\")\n",
    "plt.plot(x4,a4, 'black', label=\"PDF BINOMIAL\")\n",
    "plt.legend()\n",
    "plt.xlabel(\"EJE X\")\n",
    "plt.ylabel(\"ACUMULADO\")"
   ]
  },
  {
   "cell_type": "code",
   "execution_count": null,
   "metadata": {},
   "outputs": [],
   "source": []
  }
 ],
 "metadata": {
  "kernelspec": {
   "display_name": "Python 3",
   "language": "python",
   "name": "python3"
  },
  "language_info": {
   "codemirror_mode": {
    "name": "ipython",
    "version": 3
   },
   "file_extension": ".py",
   "mimetype": "text/x-python",
   "name": "python",
   "nbconvert_exporter": "python",
   "pygments_lexer": "ipython3",
   "version": "3.6.5"
  }
 },
 "nbformat": 4,
 "nbformat_minor": 2
}
