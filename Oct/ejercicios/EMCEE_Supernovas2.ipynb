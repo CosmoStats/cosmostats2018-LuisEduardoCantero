{
 "cells": [
  {
   "cell_type": "markdown",
   "metadata": {},
   "source": [
    "# Encuentra los parametros cosmologicos cond datos de supernovas "
   ]
  },
  {
   "cell_type": "markdown",
   "metadata": {},
   "source": [
    "$\\mu$ es el modulo de distancia de la supernva definido como:\n",
    "$\\mu = 25 - 5log_{10}h+5log_{10}(D^*_L)$\n",
    "\n",
    "    "
   ]
  },
  {
   "cell_type": "markdown",
   "metadata": {},
   "source": [
    "Donde $D^*_L = D_L(h=1)$ es la distancia luminosa que para un universo plano se puede definir como: $D_L(z) = \\frac{c}{H0}(1+z)\\left[\\eta(1,\\Omega_m)-\\eta(\\frac{1}{1+z},\\Omega_m)\\right]$,"
   ]
  },
  {
   "cell_type": "markdown",
   "metadata": {},
   "source": [
    "con $\\eta(a,\\Omega_m) = 2\\sqrt{s^3+1}\\left[\\frac{1}{a^4}-0.1540\\frac{s}{a^3} + 0.4304\\frac{s^2}{a^2} + 0.19097\\frac{s^3}{a} + 0.066941s^4\\right]^{-1/8}$"
   ]
  },
  {
   "cell_type": "markdown",
   "metadata": {},
   "source": [
    "y: $s^3=(1-\\Omega_m)/\\Omega_m$"
   ]
  },
  {
   "cell_type": "code",
   "execution_count": 20,
   "metadata": {},
   "outputs": [
    {
     "name": "stdout",
     "output_type": "stream",
     "text": [
      "Populating the interactive namespace from numpy and matplotlib\n"
     ]
    },
    {
     "name": "stderr",
     "output_type": "stream",
     "text": [
      "/home/luiscantero/anaconda3/lib/python3.6/site-packages/IPython/core/magics/pylab.py:160: UserWarning: pylab import has clobbered these variables: ['random', 'ndim']\n",
      "`%matplotlib` prevents importing * from pylab and numpy\n",
      "  \"\\n`%matplotlib` prevents importing * from pylab and numpy\"\n"
     ]
    }
   ],
   "source": [
    "# Importamos librerias\n",
    "%pylab inline\n",
    "import numpy as np\n",
    "import emcee\n",
    "import matplotlib.pyplot as plt\n",
    "import scipy.stats as st\n",
    "import math\n",
    "import random\n",
    "import scipy.optimize as op\n",
    "import corner\n",
    "import emcee\n",
    "import corner\n",
    "plt.style.use('classic')"
   ]
  },
  {
   "cell_type": "code",
   "execution_count": 14,
   "metadata": {},
   "outputs": [],
   "source": [
    "data = np.loadtxt('jla_mub.txt').T\n",
    "cov_mat = np.loadtxt('jla_mub_covmatrix.dat').T\n",
    "cov_mat = np.reshape(cov_mat,(-1,31))\n",
    "invcov = np.linalg.inv(cov_mat)\n",
    "H0 = 100\n",
    "z = data\n",
    "c = 3e5"
   ]
  },
  {
   "cell_type": "markdown",
   "metadata": {},
   "source": [
    "### Construimos las funciones para evaluar el modelo:"
   ]
  },
  {
   "cell_type": "code",
   "execution_count": 3,
   "metadata": {},
   "outputs": [],
   "source": [
    "def eta(a, Om):\n",
    "    s3 = (1-Om)/Om \n",
    "    s2 = s3**(2/3)\n",
    "    s = s3**(1/3)\n",
    "    return 2*np.sqrt(s3+1)*((1/(a**4))-0.1540*s/(a**3)+0.4304*s2/(a**2)+0.19097*s3/a+(0.06694*s**4))**(-1/8)\n",
    "\n",
    "def DL(z, H0, Om):\n",
    "    return (c/H0)*(1+z)*(eta(1, Om)-eta(1/(1+z),Om))\n",
    "\n",
    "def mu(z,H0,Om):\n",
    "    return 25-5*np.log10(H0/100)+5*np.log10(DL(z, H0, Om))\n"
   ]
  },
  {
   "cell_type": "code",
   "execution_count": 4,
   "metadata": {},
   "outputs": [
    {
     "data": {
      "text/plain": [
       "<matplotlib.collections.PathCollection at 0x7fc96efe6cf8>"
      ]
     },
     "execution_count": 4,
     "metadata": {},
     "output_type": "execute_result"
    },
    {
     "data": {
      "image/png": "[encoded data removed]",
      "text/plain": [
       "<Figure size 432x288 with 1 Axes>"
      ]
     },
     "metadata": {},
     "output_type": "display_data"
    }
   ],
   "source": [
    "# Graficamos un conjuntp de datos\n",
    "plot(data[0],mu(data[0],70,0.3))\n",
    "scatter(data[0], data[1])"
   ]
  },
  {
   "cell_type": "markdown",
   "metadata": {},
   "source": [
    "### Definimos una funcion para el Likelihood y una funcion para la cadena de Markov - Monte Carlo"
   ]
  },
  {
   "cell_type": "markdown",
   "metadata": {},
   "source": [
    "Likelihood:"
   ]
  },
  {
   "cell_type": "markdown",
   "metadata": {},
   "source": [
    "$\\mathcal{L} \\propto \\prod_i^n \\frac{1}{2\\pi\\sigma_i^2}\\exp\\left[ -\\frac{(x_i -\\mu)^2}{2\\sigma_i^2} \\right]$"
   ]
  },
  {
   "cell_type": "markdown",
   "metadata": {},
   "source": [
    "Logaritmo del Likelihood: "
   ]
  },
  {
   "cell_type": "markdown",
   "metadata": {},
   "source": [
    "$\\ln(\\mathcal{L}) \\propto -\\sum_i^n \\left[\\frac{(x_i -\\mu)^2}{2\\sigma_i^2} \\right]$"
   ]
  },
  {
   "cell_type": "code",
   "execution_count": 5,
   "metadata": {},
   "outputs": [],
   "source": [
    "def lnlh(theta):\n",
    "    modelo=mu(data[0], theta[0],theta[1])\n",
    "    diferencia = data[1]-modelo\n",
    "    u=0\n",
    "    u = np.dot(diferencia, invcov)\n",
    "    u = np.dot(u,diferencia.T)\n",
    "    u = -0.5 * np.sum(u)\n",
    "    return u\n",
    "\n",
    "def Markov(theta1, thetap):\n",
    "    p1 = lnlh(theta1)\n",
    "    pp = lnlh(thetap)\n",
    "    if(pp>p1):\n",
    "        return thetap\n",
    "    else:\n",
    "        w = np.random.rand()\n",
    "        if(pp-p1>np.log(w)):\n",
    "            return thetap\n",
    "        else:\n",
    "            return theta1\n",
    "    return"
   ]
  },
  {
   "cell_type": "code",
   "execution_count": 6,
   "metadata": {},
   "outputs": [
    {
     "name": "stderr",
     "output_type": "stream",
     "text": [
      "/home/luiscantero/anaconda3/lib/python3.6/site-packages/ipykernel_launcher.py:3: RuntimeWarning: invalid value encountered in double_scalars\n",
      "  This is separate from the ipykernel package so we can avoid doing imports until\n",
      "/home/luiscantero/anaconda3/lib/python3.6/site-packages/ipykernel_launcher.py:4: RuntimeWarning: invalid value encountered in double_scalars\n",
      "  after removing the cwd from sys.path.\n",
      "/home/luiscantero/anaconda3/lib/python3.6/site-packages/ipykernel_launcher.py:5: RuntimeWarning: invalid value encountered in sqrt\n",
      "  \"\"\"\n"
     ]
    }
   ],
   "source": [
    "Nmuestras = 1000\n",
    "sigma1 = 1\n",
    "sigma2 = 0.1\n",
    "\n",
    "Ncadenas = 8\n",
    "thetas = [50,0.3]\n",
    "cadenas = []\n",
    "\n",
    "for j in range(Ncadenas):\n",
    "    thetas = np.array([np.random.normal(np.random.uniform(50, 100), sigma1), np.random.normal(thetas[1], sigma2)])\n",
    "    for i in range(Nmuestras):\n",
    "        if i==0:\n",
    "            cadena = thetas\n",
    "        else:\n",
    "            thetat = np.array([np.random.normal(thetas[0], sigma1), np.random.normal(thetas[1], sigma2)])\n",
    "            thetanuevo = Markov(thetas, thetat)\n",
    "            cadena = np.vstack((cadena, thetanuevo))\n",
    "            thetas = thetanuevo\n",
    "    if j==0:\n",
    "        cadenas = cadena\n",
    "    else:\n",
    "        cadenas = np.vstack((cadenas, cadena))"
   ]
  },
  {
   "cell_type": "code",
   "execution_count": 7,
   "metadata": {},
   "outputs": [],
   "source": [
    "x1 = cadenas[0:Nmuestras,0]\n",
    "y1 = cadenas[0:Nmuestras,1]\n",
    "x2 = cadenas[Nmuestras+1:Nmuestras*2,0]\n",
    "y2 = cadenas[Nmuestras+1:Nmuestras*2,1]\n",
    "x3 = cadenas[2*Nmuestras+1:Nmuestras*3,0]\n",
    "y3 = cadenas[2*Nmuestras+1:Nmuestras*3,1]\n",
    "x4 = cadenas[3*Nmuestras+1:Nmuestras*4,0]\n",
    "y4 = cadenas[3*Nmuestras+1:Nmuestras*4,1]\n",
    "x5 = cadenas[4*Nmuestras+1:Nmuestras*5,0]\n",
    "y5 = cadenas[4*Nmuestras+1:Nmuestras*5,1]\n",
    "x6 = cadenas[5*Nmuestras+1:Nmuestras*6,0]\n",
    "y6 = cadenas[5*Nmuestras+1:Nmuestras*6,1]\n",
    "x7 = cadenas[6*Nmuestras+1:Nmuestras*7,0]\n",
    "y7 = cadenas[6*Nmuestras+1:Nmuestras*7,1]\n",
    "x8 = cadenas[7*Nmuestras+1:Nmuestras*8,0]\n",
    "y8 = cadenas[7*Nmuestras+1:Nmuestras*8,1]"
   ]
  },
  {
   "cell_type": "markdown",
   "metadata": {},
   "source": [
    "### Graficamos las cadenas generadas"
   ]
  },
  {
   "cell_type": "code",
   "execution_count": 8,
   "metadata": {},
   "outputs": [
    {
     "data": {
      "text/plain": [
       "<matplotlib.collections.PathCollection at 0x7fc96ef2d5f8>"
      ]
     },
     "execution_count": 8,
     "metadata": {},
     "output_type": "execute_result"
    },
    {
     "data": {
      "image/png": "[encoded data removed]",
      "text/plain": [
       "<Figure size 432x288 with 1 Axes>"
      ]
     },
     "metadata": {},
     "output_type": "display_data"
    }
   ],
   "source": [
    "plt.scatter(x1, y1, color = 'g')\n",
    "plt.scatter(x2, y2, color = 'r')\n",
    "plt.scatter(x3, y3, color = 'y')\n",
    "plt.scatter(x4, y4, color = 'b')\n",
    "plt.scatter(x5, y5, color = 'c')\n",
    "plt.scatter(x6, y6, color = 'm')\n",
    "plt.scatter(x7, y7, color = 'k')\n",
    "plt.scatter(x8, y8, color = 'w')"
   ]
  },
  {
   "cell_type": "code",
   "execution_count": 9,
   "metadata": {},
   "outputs": [
    {
     "data": {
      "text/plain": [
       "(0.15, 0.5)"
      ]
     },
     "execution_count": 9,
     "metadata": {},
     "output_type": "execute_result"
    },
    {
     "data": {
      "image/png": "[encoded data removed]",
      "text/plain": [
       "<Figure size 432x288 with 1 Axes>"
      ]
     },
     "metadata": {},
     "output_type": "display_data"
    }
   ],
   "source": [
    "plt.scatter(x1, y1, color = 'g')\n",
    "plt.scatter(x2, y2, color = 'r')\n",
    "plt.scatter(x3, y3, color = 'y')\n",
    "plt.scatter(x4, y4, color = 'b')\n",
    "plt.scatter(x5, y5, color = 'c')\n",
    "plt.scatter(x6, y6, color = 'm')\n",
    "plt.scatter(x7, y7, color = 'k')\n",
    "plt.scatter(x8, y8, color = 'w')\n",
    "plt.xlim(80, 88)\n",
    "plt.ylim(0.15, 0.5)"
   ]
  },
  {
   "cell_type": "markdown",
   "metadata": {},
   "source": [
    "## Marginalización y estimación de incertidumbre"
   ]
  },
  {
   "cell_type": "markdown",
   "metadata": {},
   "source": [
    "Definimos el 'prior' como:"
   ]
  },
  {
   "cell_type": "markdown",
   "metadata": {},
   "source": [
    "$p(H,\\Omega)= \\begin{array}{lcc} 1, &   if  & 50 \\leq H \\leq 100 \\quad and \\quad 0 \\leq \\Omega \\leq 1   0, &       &de  otra  forma \\end{array}$"
   ]
  },
  {
   "cell_type": "code",
   "execution_count": 18,
   "metadata": {},
   "outputs": [],
   "source": [
    "def lnprior(theta):\n",
    "    H,omg,lnf=theta\n",
    "    if 50 < H <100  and 0 < omg < 1.0 and -10.0 < lnf < 1.0 :\n",
    "        return 0.0\n",
    "    return -np.inf\n",
    "\n",
    "def lnprob(theta,x,mu,var):\n",
    "    lp = lnprior(theta)\n",
    "    if not np.isfinite(lp):\n",
    "        return -np.inf\n",
    "    return lp + lnlik(theta,z,mu,var)"
   ]
  },
  {
   "cell_type": "code",
   "execution_count": 12,
   "metadata": {},
   "outputs": [
    {
     "ename": "NameError",
     "evalue": "name 'result' is not defined",
     "output_type": "error",
     "traceback": [
      "\u001b[0;31m---------------------------------------------------------------------------\u001b[0m",
      "\u001b[0;31mNameError\u001b[0m                                 Traceback (most recent call last)",
      "\u001b[0;32m<ipython-input-12-5cadba82eb34>\u001b[0m in \u001b[0;36m<module>\u001b[0;34m()\u001b[0m\n\u001b[1;32m      1\u001b[0m \u001b[0mndim\u001b[0m\u001b[0;34m,\u001b[0m \u001b[0mnwalkers\u001b[0m \u001b[0;34m=\u001b[0m \u001b[0;36m3\u001b[0m\u001b[0;34m,\u001b[0m \u001b[0;36m100\u001b[0m\u001b[0;34m\u001b[0m\u001b[0m\n\u001b[0;32m----> 2\u001b[0;31m \u001b[0mpos\u001b[0m \u001b[0;34m=\u001b[0m \u001b[0;34m[\u001b[0m\u001b[0mresult\u001b[0m\u001b[0;34m[\u001b[0m\u001b[0;34m\"x\"\u001b[0m\u001b[0;34m]\u001b[0m \u001b[0;34m+\u001b[0m \u001b[0;36m1e-4\u001b[0m\u001b[0;34m*\u001b[0m\u001b[0mnp\u001b[0m\u001b[0;34m.\u001b[0m\u001b[0mrandom\u001b[0m\u001b[0;34m.\u001b[0m\u001b[0mrandn\u001b[0m\u001b[0;34m(\u001b[0m\u001b[0mndim\u001b[0m\u001b[0;34m)\u001b[0m \u001b[0;32mfor\u001b[0m \u001b[0mi\u001b[0m \u001b[0;32min\u001b[0m \u001b[0mrange\u001b[0m\u001b[0;34m(\u001b[0m\u001b[0mnwalkers\u001b[0m\u001b[0;34m)\u001b[0m\u001b[0;34m]\u001b[0m\u001b[0;34m\u001b[0m\u001b[0m\n\u001b[0m",
      "\u001b[0;32m<ipython-input-12-5cadba82eb34>\u001b[0m in \u001b[0;36m<listcomp>\u001b[0;34m(.0)\u001b[0m\n\u001b[1;32m      1\u001b[0m \u001b[0mndim\u001b[0m\u001b[0;34m,\u001b[0m \u001b[0mnwalkers\u001b[0m \u001b[0;34m=\u001b[0m \u001b[0;36m3\u001b[0m\u001b[0;34m,\u001b[0m \u001b[0;36m100\u001b[0m\u001b[0;34m\u001b[0m\u001b[0m\n\u001b[0;32m----> 2\u001b[0;31m \u001b[0mpos\u001b[0m \u001b[0;34m=\u001b[0m \u001b[0;34m[\u001b[0m\u001b[0mresult\u001b[0m\u001b[0;34m[\u001b[0m\u001b[0;34m\"x\"\u001b[0m\u001b[0;34m]\u001b[0m \u001b[0;34m+\u001b[0m \u001b[0;36m1e-4\u001b[0m\u001b[0;34m*\u001b[0m\u001b[0mnp\u001b[0m\u001b[0;34m.\u001b[0m\u001b[0mrandom\u001b[0m\u001b[0;34m.\u001b[0m\u001b[0mrandn\u001b[0m\u001b[0;34m(\u001b[0m\u001b[0mndim\u001b[0m\u001b[0;34m)\u001b[0m \u001b[0;32mfor\u001b[0m \u001b[0mi\u001b[0m \u001b[0;32min\u001b[0m \u001b[0mrange\u001b[0m\u001b[0;34m(\u001b[0m\u001b[0mnwalkers\u001b[0m\u001b[0;34m)\u001b[0m\u001b[0;34m]\u001b[0m\u001b[0;34m\u001b[0m\u001b[0m\n\u001b[0m",
      "\u001b[0;31mNameError\u001b[0m: name 'result' is not defined"
     ]
    }
   ],
   "source": [
    "ndim, nwalkers = 3, 100\n",
    "pos = [result[\"x\"] + 1e-4*np.random.randn(ndim) for i in range(nwalkers)]"
   ]
  },
  {
   "cell_type": "code",
   "execution_count": null,
   "metadata": {},
   "outputs": [],
   "source": [
    "sampler = emcee.EnsembleSampler(nwalkers, ndim, lnprob , args=(z,mu,var))"
   ]
  },
  {
   "cell_type": "code",
   "execution_count": null,
   "metadata": {},
   "outputs": [],
   "source": [
    "sampler.run_mcmc(pos,500)"
   ]
  },
  {
   "cell_type": "code",
   "execution_count": null,
   "metadata": {},
   "outputs": [],
   "source": [
    "x_g = np.linspace(0.0, 500, 500)\n",
    "y_H = 83.94 *np.ones(500)\n",
    "y_omg = 0.294*np.ones(500)\n",
    "plt.figure(figsize=(15,10))\n",
    "for i in range(nwalkers):\n",
    "    plt.subplot(2, 1, 1)\n",
    "    plt.plot(x_g, sampler.chain[i,:,0], 'k-')\n",
    "    plt.plot(x_g, y_H, '-')\n",
    "    plt.ylabel('$H$',fontsize = 18)\n",
    "\n",
    "    plt.subplot(2, 1, 2)\n",
    "    plt.plot(x_g, sampler.chain[i,:,1], 'k-')\n",
    "    plt.plot(x_g, y_omg, '-')\n",
    "    plt.ylabel('$\\Omega_m$',fontsize = 18)\n",
    "    plt.xlabel('$stepnumber$',fontsize = 18)\n",
    "plt.show()"
   ]
  },
  {
   "cell_type": "code",
   "execution_count": null,
   "metadata": {},
   "outputs": [],
   "source": [
    "samples = sampler.chain[:, 50:, :].reshape((-1, ndim))"
   ]
  },
  {
   "cell_type": "markdown",
   "metadata": {},
   "source": [
    "## Resultados"
   ]
  },
  {
   "cell_type": "code",
   "execution_count": null,
   "metadata": {},
   "outputs": [],
   "source": [
    "\n",
    "fig = corner.corner(samples, labels=[\"$H0$\", \"$\\Omega_m$\", \"$\\ln\\,f$\"],\n",
    "                      truths=[H_true, omg_true, np.log(lnf_true)])\n",
    "fig.savefig(\"triangle.png\")\n",
    "\n"
   ]
  }
 ],
 "metadata": {
  "kernelspec": {
   "display_name": "Python 3",
   "language": "python",
   "name": "python3"
  },
  "language_info": {
   "codemirror_mode": {
    "name": "ipython",
    "version": 3
   },
   "file_extension": ".py",
   "mimetype": "text/x-python",
   "name": "python",
   "nbconvert_exporter": "python",
   "pygments_lexer": "ipython3",
   "version": "3.6.5"
  }
 },
 "nbformat": 4,
 "nbformat_minor": 2
}
