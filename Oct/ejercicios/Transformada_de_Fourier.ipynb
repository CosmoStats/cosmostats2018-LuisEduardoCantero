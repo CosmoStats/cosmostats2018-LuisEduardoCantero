{
 "cells": [
  {
   "cell_type": "markdown",
   "metadata": {},
   "source": [
    "# Transformada de Fourier"
   ]
  },
  {
   "cell_type": "code",
   "execution_count": 16,
   "metadata": {},
   "outputs": [],
   "source": [
    "# Aqui cargamos las liberias a usar\n",
    "from matplotlib import pyplot\n",
    "from mpl_toolkits.mplot3d import Axes3D\n",
    "import matplotlib.pyplot as plt\n",
    "import scipy.special\n",
    "from scipy.integrate import odeint\n",
    "import numpy as np\n",
    "from numpy.fft import fft, fftfreq, ifft\n",
    "import math\n",
    "from ipykernel import kernelapp as app"
   ]
  },
  {
   "cell_type": "markdown",
   "metadata": {},
   "source": [
    "Definimos la funcion que sera transformada (una gaussiana) y la evaluamos en el rango de -10 a 10. Usamos $\\mu$ = 0 y $\\sigma$ = 2."
   ]
  },
  {
   "cell_type": "code",
   "execution_count": 17,
   "metadata": {},
   "outputs": [],
   "source": [
    "def gaus (x, mu, sig):\n",
    "    w = (1./(np.sqrt(2. * np.pi) * sig)) * np.exp((1./2) * (-np.power(x - mu, 2.) / (2 * np.power(sig, 2.))))\n",
    "    return w"
   ]
  },
  {
   "cell_type": "code",
   "execution_count": 18,
   "metadata": {},
   "outputs": [],
   "source": [
    "n = 1000\n",
    "amp = np.empty(n, dtype=complex)\n",
    "x = np.linspace(-100, 100, n)\n",
    "mu, delta = 0, .5\n",
    "y = gaus(x,mu,delta)"
   ]
  },
  {
   "cell_type": "markdown",
   "metadata": {},
   "source": [
    "Graficamos la funcion gaussiana."
   ]
  },
  {
   "cell_type": "code",
   "execution_count": 19,
   "metadata": {},
   "outputs": [
    {
     "data": {
      "text/plain": [
       "Text(0,0.5,'$y$')"
      ]
     },
     "execution_count": 19,
     "metadata": {},
     "output_type": "execute_result"
    },
    {
     "data": {
      "image/png": "[encoded data removed]",
      "text/plain": [
       "<Figure size 432x288 with 1 Axes>"
      ]
     },
     "metadata": {},
     "output_type": "display_data"
    }
   ],
   "source": [
    "plt.plot(x,y, color = 'g')\n",
    "plt.xlabel(\"$x$\",fontsize = 15)\n",
    "plt.ylabel(\"$y$\",fontsize = 15)"
   ]
  },
  {
   "cell_type": "markdown",
   "metadata": {},
   "source": [
    "## Metodo 1 para la transformada de Fourier"
   ]
  },
  {
   "cell_type": "markdown",
   "metadata": {},
   "source": [
    "Usamos la siguiente expresion para encontrar la tranformada y definimos una funcion que la evalue:"
   ]
  },
  {
   "cell_type": "markdown",
   "metadata": {},
   "source": [
    "$X(K) = \\sum_{n=0}^{N-1} (Xn) e^{\\frac{-j2\\pi Kn}{N}}$"
   ]
  },
  {
   "cell_type": "markdown",
   "metadata": {},
   "source": [
    "Donde:"
   ]
  },
  {
   "cell_type": "markdown",
   "metadata": {},
   "source": [
    "X(K): Valor de la transformada discreta de Fourier  \n",
    "N: Numero de muestras  \n",
    "K: Frecuencia  \n",
    "n: numero de muestra(Se incrementa cada termino)"
   ]
  },
  {
   "cell_type": "code",
   "execution_count": 23,
   "metadata": {},
   "outputs": [],
   "source": [
    "def amplitud (fun, n, i):\n",
    "    u = 0\n",
    "    for j in range(0, n):\n",
    "        a = fun[j] * np.exp(-complex(0,1) * 2 * np.pi * i * j / (n))\n",
    "        u = u + a\n",
    "    return u"
   ]
  },
  {
   "cell_type": "markdown",
   "metadata": {},
   "source": [
    "Evaluamos para cada punto en la distribucion"
   ]
  },
  {
   "cell_type": "code",
   "execution_count": 24,
   "metadata": {},
   "outputs": [],
   "source": [
    "for i in range(0, n):\n",
    "    amp[i] = amplitud(y, n, i)"
   ]
  },
  {
   "cell_type": "markdown",
   "metadata": {},
   "source": [
    "Graficamos la transformada, es necesario hacer una transformacion para las frecuencias tambien."
   ]
  },
  {
   "cell_type": "code",
   "execution_count": 25,
   "metadata": {},
   "outputs": [
    {
     "data": {
      "text/plain": [
       "Text(0,0.5,'$Amplitud$')"
      ]
     },
     "execution_count": 25,
     "metadata": {},
     "output_type": "execute_result"
    },
    {
     "data": {
      "image/png": "[encoded data removed]",
      "text/plain": [
       "<Figure size 1080x360 with 1 Axes>"
      ]
     },
     "metadata": {},
     "output_type": "display_data"
    }
   ],
   "source": [
    "xf = np.fft.fftfreq(np.size(amp))\n",
    "plt.figure(figsize=(15,5))\n",
    "plt.plot(xf,abs(amp), '-', color = 'g')\n",
    "plt.xlabel(\"$Frecuencia$\",fontsize = 15)\n",
    "plt.ylabel(\"$Amplitud$\",fontsize = 15)\n"
   ]
  },
  {
   "cell_type": "markdown",
   "metadata": {},
   "source": [
    "## Metodo 2 (alternativo) para la transformada de Fourier"
   ]
  },
  {
   "cell_type": "code",
   "execution_count": 38,
   "metadata": {},
   "outputs": [],
   "source": [
    "# Con este codigo solo comprobe que la evaluacion del Metodo 1 sea correcta.\n",
    "def dft(x):\n",
    "    N, yr, yi = len(x), [], []\n",
    "    for k in range(N):\n",
    "        real, imag = 0, 0\n",
    "        for n in range(N):\n",
    "            theta = -k * (2 * math.pi) * (float(n) / N)\n",
    "            real += x[n] * math.cos(theta)\n",
    "            imag += x[n] * math.sin(theta)\n",
    "        yr.append(real / N) # Regresa la parte real\n",
    "        yi.append(imag / N) # Regresa la parte imaginaria\n",
    "    return yr, yi"
   ]
  },
  {
   "cell_type": "markdown",
   "metadata": {},
   "source": [
    "## Metodo 3 para la transformada de Fourier utilizando la funcion FFT"
   ]
  },
  {
   "cell_type": "markdown",
   "metadata": {},
   "source": [
    "Usamos la funcion fft (Fast Fourier Transform) precargada para obtener la transformada de Fourier de nuestra funcion."
   ]
  },
  {
   "cell_type": "code",
   "execution_count": 26,
   "metadata": {},
   "outputs": [],
   "source": [
    "yfft = fft(y)"
   ]
  },
  {
   "cell_type": "markdown",
   "metadata": {},
   "source": [
    "Graficamos la transformada, tambien es necesario hacer una transformacion para las frecuencias."
   ]
  },
  {
   "cell_type": "code",
   "execution_count": 28,
   "metadata": {},
   "outputs": [
    {
     "data": {
      "text/plain": [
       "Text(0,0.5,'$Amplitud$')"
      ]
     },
     "execution_count": 28,
     "metadata": {},
     "output_type": "execute_result"
    },
    {
     "data": {
      "image/png": "[encoded data removed]",
      "text/plain": [
       "<Figure size 1080x360 with 1 Axes>"
      ]
     },
     "metadata": {},
     "output_type": "display_data"
    }
   ],
   "source": [
    "xf = np.fft.fftfreq(np.size(yfft))\n",
    "plt.figure(figsize=(15,5))\n",
    "plt.plot(xf,abs(yfft), '-', color = 'g')\n",
    "plt.xlabel(\"$Frecuencia$\",fontsize = 15)\n",
    "plt.ylabel(\"$Amplitud$\",fontsize = 15)"
   ]
  },
  {
   "cell_type": "code",
   "execution_count": 251,
   "metadata": {},
   "outputs": [],
   "source": [
    "# Definimos la funcion inversa de la transformada de Fourier que nos puede servir mas adelante.\n",
    "\n",
    "def idft(yr, yi):\n",
    "    N, x = len(yr), []\n",
    "    for n in range(N):\n",
    "        real, imag = 0, 0\n",
    "        for k in range(N):\n",
    "            theta = k * (2 * math.pi) * (float(n) / N)\n",
    "            real += (yr[k] * math.cos(theta)) - (yi[k] * math.sin(theta))\n",
    "            # imag += (yr[k] * math.sin(theta)) + (yi[k] * math.cos(theta))\n",
    "        x.append(real)\n",
    "    return x"
   ]
  },
  {
   "cell_type": "markdown",
   "metadata": {},
   "source": [
    "### Ahora, ¿que pasa si $x_{0}=1$ con la transformada? Comparemos el Metodo 1 con la funcion FFT."
   ]
  },
  {
   "cell_type": "markdown",
   "metadata": {},
   "source": [
    "Usamos el Metodo 1:"
   ]
  },
  {
   "cell_type": "code",
   "execution_count": null,
   "metadata": {},
   "outputs": [],
   "source": [
    "# mu = 1 y sigma  = 2\n",
    "n2 = 1000\n",
    "amp2 = np.empty(n2, dtype=complex)\n",
    "x2 = np.linspace(-100, 100, n2)\n",
    "mu2, delta2 = 1, 3\n",
    "y2 = gaus(x2, mu2, delta2)"
   ]
  },
  {
   "cell_type": "markdown",
   "metadata": {},
   "source": [
    "Usamos el metodo FFT:"
   ]
  },
  {
   "cell_type": "code",
   "execution_count": 60,
   "metadata": {},
   "outputs": [],
   "source": [
    "yfft2 = fft(y2)"
   ]
  },
  {
   "cell_type": "code",
   "execution_count": null,
   "metadata": {},
   "outputs": [],
   "source": []
  },
  {
   "cell_type": "code",
   "execution_count": 57,
   "metadata": {},
   "outputs": [
    {
     "data": {
      "text/plain": [
       "Text(0,0.5,'$y$')"
      ]
     },
     "execution_count": 57,
     "metadata": {},
     "output_type": "execute_result"
    },
    {
     "data": {
      "image/png": "[encoded data removed]",
      "text/plain": [
       "<Figure size 432x288 with 1 Axes>"
      ]
     },
     "metadata": {},
     "output_type": "display_data"
    }
   ],
   "source": [
    "plt.plot(x2,y2, color = 'b', label='$\\sigma = 1$')\n",
    "plt.legend()\n",
    "xf = np.fft.fftfreq(np.size(yfft))\n",
    "plt.plot(xf,abs(yfft), '-', color = 'r')\n",
    "plt.xlabel(\"$x$\",fontsize = 15)\n",
    "plt.ylabel(\"$y$\",fontsize = 15)"
   ]
  },
  {
   "cell_type": "code",
   "execution_count": 58,
   "metadata": {},
   "outputs": [],
   "source": [
    "for i in range(0, n2):\n",
    "    amp2[i] = amplitud(y2, n2, i)"
   ]
  },
  {
   "cell_type": "code",
   "execution_count": 59,
   "metadata": {},
   "outputs": [
    {
     "data": {
      "text/plain": [
       "Text(0,0.5,'$Amplitud$')"
      ]
     },
     "execution_count": 59,
     "metadata": {},
     "output_type": "execute_result"
    },
    {
     "data": {
      "image/png": "[encoded data removed]",
      "text/plain": [
       "<Figure size 1080x360 with 1 Axes>"
      ]
     },
     "metadata": {},
     "output_type": "display_data"
    }
   ],
   "source": [
    "xf2 = np.fft.fftfreq(np.size(amp2))\n",
    "plt.figure(figsize=(15,5))\n",
    "plt.plot(xf2,abs(amp2), '-', color = 'b', label='$\\sigma = 1$')\n",
    "plt.legend()\n",
    "plt.xlabel(\"$Frecuencia$\",fontsize = 15)\n",
    "plt.ylabel(\"$Amplitud$\",fontsize = 15)\n"
   ]
  },
  {
   "cell_type": "code",
   "execution_count": null,
   "metadata": {},
   "outputs": [],
   "source": [
    "###"
   ]
  },
  {
   "cell_type": "code",
   "execution_count": null,
   "metadata": {},
   "outputs": [],
   "source": []
  },
  {
   "cell_type": "code",
   "execution_count": null,
   "metadata": {},
   "outputs": [],
   "source": []
  },
  {
   "cell_type": "markdown",
   "metadata": {},
   "source": [
    "#### En todos los casos analizados la transformada de Fourier queda centrada en 0, mientras que el valor de la funcion tranformada es $\\sigma$."
   ]
  }
 ],
 "metadata": {
  "kernelspec": {
   "display_name": "Python 3",
   "language": "python",
   "name": "python3"
  },
  "language_info": {
   "codemirror_mode": {
    "name": "ipython",
    "version": 3
   },
   "file_extension": ".py",
   "mimetype": "text/x-python",
   "name": "python",
   "nbconvert_exporter": "python",
   "pygments_lexer": "ipython3",
   "version": "3.6.5"
  }
 },
 "nbformat": 4,
 "nbformat_minor": 2
}
