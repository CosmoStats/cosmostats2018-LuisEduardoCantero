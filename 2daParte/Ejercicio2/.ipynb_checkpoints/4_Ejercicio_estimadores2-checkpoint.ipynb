{
 "cells": [
  {
   "cell_type": "markdown",
   "metadata": {},
   "source": [
    "# Observar como cambia la función de correlación con el número de puntos aleatorios. a) Usando 1 archivo con 1, 5, 10 y 50 veces el número de puntos que los datos, y promedia los histogramas b) Usando 1 archivo con 1, 5, 10 y 50 veces el número de puntos que los datos, y promedia las funciones de correlación c) Usando 1, 5, 10 y 50 archivos de muestras aleatorias con el mismo número de puntos que los datos"
   ]
  },
  {
   "cell_type": "code",
   "execution_count": null,
   "metadata": {},
   "outputs": [],
   "source": [
    "# Aqui cargamos las liberias a usar\n",
    "from matplotlib import pyplot\n",
    "from mpl_toolkits.mplot3d import Axes3D\n",
    "import matplotlib.pyplot as plt\n",
    "import scipy.special\n",
    "import numpy as np\n",
    "import math"
   ]
  },
  {
   "cell_type": "markdown",
   "metadata": {},
   "source": [
    "#### Cargamos todas las funciones necesarias de los ejercicios anteriores"
   ]
  },
  {
   "cell_type": "code",
   "execution_count": null,
   "metadata": {},
   "outputs": [],
   "source": [
    "separacion = 40\n",
    "longitud = 1000"
   ]
  },
  {
   "cell_type": "code",
   "execution_count": null,
   "metadata": {},
   "outputs": [],
   "source": [
    "def construyecaja (l, s):\n",
    "    nxlado = int(l / s)\n",
    "    ntot = nxlado ** 2\n",
    "    px = []\n",
    "    py = []\n",
    "    c = 1\n",
    "    for i in range(1, nxlado):\n",
    "        for j in range(1, nxlado):\n",
    "            px.append(s * i)\n",
    "            py.append(s * j)\n",
    "            c += 1\n",
    "    return px, py\n",
    "\n",
    "def distancia(x1,y1):\n",
    "    d = []\n",
    "    i=0\n",
    "    while i <= (len(x1) - 1):\n",
    "        j = (i + 1)\n",
    "        while j < len(x1):\n",
    "            d.append(pow(((x1[i] - x1[j]) ** 2 + (y1[i] - y1[j]) ** 2), 0.5))\n",
    "            j = j + 1\n",
    "        i= i + 1\n",
    "    return d\n",
    "\n",
    "def distanciadr(x1,y1, xr, yr):\n",
    "    d = []\n",
    "    i=0\n",
    "    while i <= (len(x1) - 1):\n",
    "        j = (i + 1)\n",
    "        while j < len(x1):\n",
    "            d.append(pow(((x1[i] - xr[j]) ** 2 + (y1[i] - yr[j]) ** 2), 0.5))\n",
    "            j = j + 1\n",
    "        i= i + 1\n",
    "    return d\n",
    "\n",
    "def fham(xm, ym, xr, yr, lcaja, nb): # Hamilton\n",
    "    lmax = np.sqrt(2 * lcaja ** 2)  \n",
    "    dmalla = []\n",
    "    drandom = []\n",
    "    co = []\n",
    "    \n",
    "    dmalla = distancia(xm, ym) \n",
    "    drandom = distancia(xr, yr) \n",
    "    ddr = distanciadr(xm, ym, xr, yr) \n",
    "    \n",
    "    dd, nbm = np.histogram(dmalla, bins = nb)\n",
    "    rr, nbr = np.histogram(drandom, bins = nb)\n",
    "    dr, nbrd = np.histogram(ddr, bins = nb)\n",
    "    \n",
    "    co = np.abs(dd - rr) / (dr ^ 2) \n",
    "\n",
    "    x = np.linspace(0, lmax, len(co))\n",
    "    \n",
    "    plt.figure()\n",
    "    plt.figure(figsize=(15,5))\n",
    "    plt.plot(x, co, 'bo-', label='$Hamilton$', color = 'r')\n",
    "    plt.legend()\n",
    "    \n",
    "def fpeha(xm, ym, xr, yr, lcaja, nb): # Peebles - Hauser\n",
    "    lmax = np.sqrt(2 * lcaja ** 2)  \n",
    "    nrd = len(xr)\n",
    "    n = len(xm)\n",
    "    dmalla = []\n",
    "    drandom = []\n",
    "    co = []\n",
    "    \n",
    "    dmalla = distancia(xm, ym) \n",
    "    drandom = distancia(xr, yr) \n",
    "    \n",
    "    dd, nbm = np.histogram(dmalla, bins = nb)\n",
    "    rr, nbr = np.histogram(drandom, bins = nb)\n",
    "    \n",
    "    \n",
    "    co = (nrd / n) ** 2 * (dd / rr) - 1 \n",
    "\n",
    "    x = np.linspace(0, lmax, len(co))\n",
    "\n",
    "    plt.figure()\n",
    "    plt.figure(figsize=(15,5))\n",
    "    plt.plot(x, co, 'bo-', label='$Peebles - Hauser$', color = 'g')\n",
    "    plt.legend()\n",
    "    \n",
    "def fdape(xm, ym, xr, yr, lcaja, nb): # Davis - Peebles\n",
    "    lmax = np.sqrt(2 * lcaja ** 2)  \n",
    "    nrd = len(xr)\n",
    "    n = len(xm)\n",
    "    dmalla = []\n",
    "    drandom = []\n",
    "    co = []\n",
    "    \n",
    "    dmalla = distancia(xm, ym) \n",
    "    ddr = distanciadr(xm, ym, xr, yr) \n",
    "    \n",
    "    dd, nbm = np.histogram(dmalla, bins = nb)\n",
    "    dr, nbrd = np.histogram(ddr, bins = nb)\n",
    "    \n",
    "    co = (nrd / n) * (dd / dr) - 1\n",
    "    x = np.linspace(0, lmax, len(co))\n",
    "\n",
    "    plt.figure()\n",
    "    plt.figure(figsize=(15,5))\n",
    "    plt.plot(x, co, 'bo-', label='$Davis - Peebles$', color = 'm')\n",
    "    plt.legend()\n",
    "    \n",
    "def flasz(xm, ym, xr, yr, lcaja, nb): # Landy - Szalay\n",
    "    lmax = np.sqrt(2 * lcaja ** 2)  \n",
    "    nrd = len(xr)\n",
    "    n = len(xm)\n",
    "    dmalla = []\n",
    "    drandom = []\n",
    "    co = []\n",
    "    \n",
    "    dmalla = distancia(xm, ym) \n",
    "    drandom = distancia(xr, yr) \n",
    "    ddr = distanciadr(xm, ym, xr, yr) \n",
    "    \n",
    "    dd, nbm = np.histogram(dmalla, bins = nb)\n",
    "    rr, nbr = np.histogram(drandom, bins = nb)\n",
    "    dr, nbrd = np.histogram(ddr, bins = nb)\n",
    "    \n",
    "    co = 1 + (dd / rr) * ((nrd / n) ** 2) - 2 * (dr / rr) * (nrd / n) \n",
    "\n",
    "    x = np.linspace(0, lmax, len(co))\n",
    "\n",
    "    plt.figure()\n",
    "    plt.figure(figsize=(15,5))\n",
    "    plt.plot(x, co, 'bo-', label='$Landy - Szalay$', color = 'k')"
   ]
  },
  {
   "cell_type": "markdown",
   "metadata": {},
   "source": [
    "## a) Usando 1 archivo con 1, 5, 10 y 50 veces el número de puntos aleatorios que los datos"
   ]
  },
  {
   "cell_type": "markdown",
   "metadata": {},
   "source": [
    "### 1 vez el número de puntos aleatorios que los datos"
   ]
  },
  {
   "cell_type": "code",
   "execution_count": null,
   "metadata": {},
   "outputs": [],
   "source": [
    "x1, y1 = construyecaja(longitud, separacion)\n",
    "x2 = np.random.uniform(0, longitud, len(x1) * 1)\n",
    "y2 = np.random.uniform(0, longitud, len(x1) * 1)"
   ]
  },
  {
   "cell_type": "markdown",
   "metadata": {},
   "source": [
    "Generamos los histogramas DD, RR y DR con la muestra aleatoria y la ordenada"
   ]
  },
  {
   "cell_type": "code",
   "execution_count": null,
   "metadata": {},
   "outputs": [],
   "source": [
    "dmalla0 = distancia(x1, y1) # Calculamos la distancia entre los puntos del arreglo en malla\n",
    "drandom0 = distancia(x2, y2) # Calculamos la distancia entre los puntos del arreglo de puntos aleatorios\n",
    "ddr0 = distanciadr(x1, y1, x2, y2) # Calculamos la distancia entre los puntos ordenados y los aleatorios"
   ]
  },
  {
   "cell_type": "code",
   "execution_count": null,
   "metadata": {},
   "outputs": [],
   "source": [
    "nbins = 25"
   ]
  },
  {
   "cell_type": "code",
   "execution_count": null,
   "metadata": {},
   "outputs": [],
   "source": [
    "plt.figure()\n",
    "plt.figure(figsize=(15,5))\n",
    "plt.hist(dmalla0, bins=nbins, color = 'm' , alpha =0.5, label='$DD(r)$')\n",
    "plt.legend()\n",
    "plt.figure()\n",
    "plt.figure(figsize=(15,5))\n",
    "plt.hist(drandom0, bins=nbins, color = 'g' , alpha =0.5, label='$RR(r)$')\n",
    "plt.legend()\n",
    "plt.figure()\n",
    "plt.figure(figsize=(15,5))\n",
    "plt.hist(ddr0, bins=nbins, color = 'r' , alpha =0.5, label='$DR(r)$')\n",
    "plt.legend()\n",
    "plt.figure()\n",
    "plt.figure(figsize=(15,5))\n",
    "plt.hist(dmalla0, bins=nbins, color = 'm' , alpha =0.5, label='$DD(r)$')\n",
    "plt.hist(drandom0, bins=nbins, color = 'g' , alpha =0.5, label='$RR(r)$')\n",
    "plt.hist(ddr0, bins=nbins, color = 'r' , alpha =0.5, label='$DR(r)$')\n",
    "plt.legend()"
   ]
  },
  {
   "cell_type": "code",
   "execution_count": null,
   "metadata": {},
   "outputs": [],
   "source": [
    "plt.figure(figsize=(15,5))\n",
    "\n",
    "fham(x1, y1, x2, y2, longitud, nbins)\n",
    "fpeha(x1, y1, x2, y2, longitud, nbins)\n",
    "fdape(x1, y1, x2, y2, longitud, nbins)\n",
    "flasz(x1, y1, x2, y2, longitud, nbins)\n",
    "\n",
    "plt.legend()\n",
    "plt.show()"
   ]
  },
  {
   "cell_type": "markdown",
   "metadata": {},
   "source": [
    "### 5 vez el número de puntos aleatorios que los datos"
   ]
  },
  {
   "cell_type": "code",
   "execution_count": null,
   "metadata": {},
   "outputs": [],
   "source": [
    "x1, y1 = construyecaja(longitud, separacion)\n",
    "x2 = np.random.uniform(0, longitud, len(x1) * 5)\n",
    "y2 = np.random.uniform(0, longitud, len(x1) * 5)"
   ]
  },
  {
   "cell_type": "markdown",
   "metadata": {},
   "source": [
    "Generamos los histogramas DD, RR y DR con la muestra aleatoria y la ordenada"
   ]
  },
  {
   "cell_type": "code",
   "execution_count": null,
   "metadata": {},
   "outputs": [],
   "source": [
    "dmalla0 = distancia(x1, y1) # Calculamos la distancia entre los puntos del arreglo en malla\n",
    "drandom0 = distancia(x2, y2) # Calculamos la distancia entre los puntos del arreglo de puntos aleatorios\n",
    "ddr0 = distanciadr(x1, y1, x2, y2) # Calculamos la distancia entre los puntos ordenados y los aleatorios"
   ]
  },
  {
   "cell_type": "code",
   "execution_count": null,
   "metadata": {},
   "outputs": [],
   "source": [
    "nbins = 25"
   ]
  },
  {
   "cell_type": "code",
   "execution_count": null,
   "metadata": {},
   "outputs": [],
   "source": [
    "plt.figure()\n",
    "plt.figure(figsize=(15,5))\n",
    "plt.hist(dmalla0, bins=nbins, color = 'm' , alpha =0.5, label='$DD(r)$')\n",
    "plt.legend()\n",
    "plt.figure()\n",
    "plt.figure(figsize=(15,5))\n",
    "plt.hist(drandom0, bins=nbins, color = 'g' , alpha =0.5, label='$RR(r)$')\n",
    "plt.legend()\n",
    "plt.figure()\n",
    "plt.figure(figsize=(15,5))\n",
    "plt.hist(ddr0, bins=nbins, color = 'r' , alpha =0.5, label='$DR(r)$')\n",
    "plt.legend()\n",
    "plt.figure()\n",
    "plt.figure(figsize=(15,5))\n",
    "plt.hist(dmalla0, bins=nbins, color = 'm' , alpha =0.5, label='$DD(r)$')\n",
    "plt.hist(drandom0, bins=nbins, color = 'g' , alpha =0.5, label='$RR(r)$')\n",
    "plt.hist(ddr0, bins=nbins, color = 'r' , alpha =0.5, label='$DR(r)$')\n",
    "plt.legend()"
   ]
  },
  {
   "cell_type": "code",
   "execution_count": null,
   "metadata": {},
   "outputs": [],
   "source": [
    "plt.figure(figsize=(15,5))\n",
    "\n",
    "fham(x1, y1, x2, y2, longitud, nbins)\n",
    "fpeha(x1, y1, x2, y2, longitud, nbins)\n",
    "fdape(x1, y1, x2, y2, longitud, nbins)\n",
    "flasz(x1, y1, x2, y2, longitud, nbins)\n",
    "\n",
    "plt.legend()\n",
    "plt.show()"
   ]
  },
  {
   "cell_type": "markdown",
   "metadata": {},
   "source": [
    "### 10 vez el número de puntos aleatorios que los datos"
   ]
  },
  {
   "cell_type": "code",
   "execution_count": null,
   "metadata": {},
   "outputs": [],
   "source": [
    "x1, y1 = construyecaja(longitud, separacion)\n",
    "x2 = np.random.uniform(0, longitud, len(x1) * 10)\n",
    "y2 = np.random.uniform(0, longitud, len(x1) * 10)"
   ]
  },
  {
   "cell_type": "markdown",
   "metadata": {},
   "source": [
    "Generamos los histogramas DD, RR y DR con la muestra aleatoria y la ordenada"
   ]
  },
  {
   "cell_type": "code",
   "execution_count": null,
   "metadata": {},
   "outputs": [],
   "source": [
    "dmalla0 = distancia(x1, y1) # Calculamos la distancia entre los puntos del arreglo en malla\n",
    "drandom0 = distancia(x2, y2) # Calculamos la distancia entre los puntos del arreglo de puntos aleatorios\n",
    "ddr0 = distanciadr(x1, y1, x2, y2) # Calculamos la distancia entre los puntos ordenados y los aleatorios"
   ]
  },
  {
   "cell_type": "code",
   "execution_count": null,
   "metadata": {},
   "outputs": [],
   "source": [
    "nbins = 25"
   ]
  },
  {
   "cell_type": "code",
   "execution_count": null,
   "metadata": {},
   "outputs": [],
   "source": [
    "plt.figure()\n",
    "plt.figure(figsize=(15,5))\n",
    "plt.hist(dmalla0, bins=nbins, color = 'm' , alpha =0.5, label='$DD(r)$')\n",
    "plt.legend()\n",
    "plt.figure()\n",
    "plt.figure(figsize=(15,5))\n",
    "plt.hist(drandom0, bins=nbins, color = 'g' , alpha =0.5, label='$RR(r)$')\n",
    "plt.legend()\n",
    "plt.figure()\n",
    "plt.figure(figsize=(15,5))\n",
    "plt.hist(ddr0, bins=nbins, color = 'r' , alpha =0.5, label='$DR(r)$')\n",
    "plt.legend()\n",
    "plt.figure()\n",
    "plt.figure(figsize=(15,5))\n",
    "plt.hist(dmalla0, bins=nbins, color = 'm' , alpha =0.5, label='$DD(r)$')\n",
    "plt.hist(drandom0, bins=nbins, color = 'g' , alpha =0.5, label='$RR(r)$')\n",
    "plt.hist(ddr0, bins=nbins, color = 'r' , alpha =0.5, label='$DR(r)$')\n",
    "plt.legend()"
   ]
  },
  {
   "cell_type": "code",
   "execution_count": null,
   "metadata": {},
   "outputs": [],
   "source": [
    "plt.figure(figsize=(15,5))\n",
    "\n",
    "fham(x1, y1, x2, y2, longitud, nbins)\n",
    "fpeha(x1, y1, x2, y2, longitud, nbins)\n",
    "fdape(x1, y1, x2, y2, longitud, nbins)\n",
    "flasz(x1, y1, x2, y2, longitud, nbins)\n",
    "\n",
    "plt.legend()\n",
    "plt.show()"
   ]
  },
  {
   "cell_type": "markdown",
   "metadata": {},
   "source": [
    "### 50 vez el número de puntos aleatorios que los datos"
   ]
  },
  {
   "cell_type": "code",
   "execution_count": null,
   "metadata": {},
   "outputs": [],
   "source": [
    "x1, y1 = construyecaja(longitud, separacion)\n",
    "x2 = np.random.uniform(0, longitud, len(x1) * 50)\n",
    "y2 = np.random.uniform(0, longitud, len(x1) * 50)"
   ]
  },
  {
   "cell_type": "markdown",
   "metadata": {},
   "source": [
    "Generamos los histogramas DD, RR y DR con la muestra aleatoria y la ordenada"
   ]
  },
  {
   "cell_type": "code",
   "execution_count": null,
   "metadata": {},
   "outputs": [],
   "source": [
    "dmalla0 = distancia(x1, y1) # Calculamos la distancia entre los puntos del arreglo en malla\n",
    "drandom0 = distancia(x2, y2) # Calculamos la distancia entre los puntos del arreglo de puntos aleatorios\n",
    "ddr0 = distanciadr(x1, y1, x2, y2) # Calculamos la distancia entre los puntos ordenados y los aleatorios"
   ]
  },
  {
   "cell_type": "code",
   "execution_count": null,
   "metadata": {},
   "outputs": [],
   "source": [
    "nbins = 25"
   ]
  },
  {
   "cell_type": "code",
   "execution_count": null,
   "metadata": {},
   "outputs": [],
   "source": [
    "plt.figure()\n",
    "plt.figure(figsize=(15,5))\n",
    "plt.hist(dmalla0, bins=nbins, color = 'm' , alpha =0.5, label='$DD(r)$')\n",
    "plt.legend()\n",
    "plt.figure()\n",
    "plt.figure(figsize=(15,5))\n",
    "plt.hist(drandom0, bins=nbins, color = 'g' , alpha =0.5, label='$RR(r)$')\n",
    "plt.legend()\n",
    "plt.figure()\n",
    "plt.figure(figsize=(15,5))\n",
    "plt.hist(ddr0, bins=nbins, color = 'r' , alpha =0.5, label='$DR(r)$')\n",
    "plt.legend()\n",
    "plt.figure()\n",
    "plt.figure(figsize=(15,5))\n",
    "plt.hist(dmalla0, bins=nbins, color = 'm' , alpha =0.5, label='$DD(r)$')\n",
    "plt.hist(drandom0, bins=nbins, color = 'g' , alpha =0.5, label='$RR(r)$')\n",
    "plt.hist(ddr0, bins=nbins, color = 'r' , alpha =0.5, label='$DR(r)$')\n",
    "plt.legend()"
   ]
  },
  {
   "cell_type": "code",
   "execution_count": null,
   "metadata": {},
   "outputs": [],
   "source": [
    "plt.figure(figsize=(15,5))\n",
    "\n",
    "fham(x1, y1, x2, y2, longitud, nbins)\n",
    "fpeha(x1, y1, x2, y2, longitud, nbins)\n",
    "fdape(x1, y1, x2, y2, longitud, nbins)\n",
    "flasz(x1, y1, x2, y2, longitud, nbins)\n",
    "\n",
    "plt.legend()\n",
    "plt.show()"
   ]
  },
  {
   "cell_type": "markdown",
   "metadata": {},
   "source": [
    "## b) Usando 1 archivo con 1, 5, 10 y 50 veces el número de puntos que los datos, y promedia las funciones de correlación "
   ]
  },
  {
   "cell_type": "code",
   "execution_count": null,
   "metadata": {},
   "outputs": [],
   "source": []
  }
 ],
 "metadata": {
  "kernelspec": {
   "display_name": "Python 3",
   "language": "python",
   "name": "python3"
  },
  "language_info": {
   "codemirror_mode": {
    "name": "ipython",
    "version": 3
   },
   "file_extension": ".py",
   "mimetype": "text/x-python",
   "name": "python",
   "nbconvert_exporter": "python",
   "pygments_lexer": "ipython3",
   "version": "3.6.5"
  }
 },
 "nbformat": 4,
 "nbformat_minor": 2
}
