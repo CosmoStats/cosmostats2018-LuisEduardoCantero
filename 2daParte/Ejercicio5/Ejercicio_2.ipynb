{
 "cells": [
  {
   "cell_type": "markdown",
   "metadata": {},
   "source": [
    "# 2.  De partículas a una malla. Usa la rutina [scipy.interpolate.griddata](https://docs.scipy.org/doc/scipy/reference/generated/scipy.interpolate.griddata.html). Sugerencia revisa el ejemplo de las notas de clase y el de la página anterior."
   ]
  },
  {
   "cell_type": "code",
   "execution_count": 5,
   "metadata": {},
   "outputs": [],
   "source": [
    "# Aqui cargamos las liberias a usar\n",
    "from matplotlib import pyplot\n",
    "from mpl_toolkits.mplot3d import Axes3D\n",
    "import matplotlib.pyplot as plt\n",
    "import scipy.special\n",
    "import numpy as np\n",
    "import math"
   ]
  },
  {
   "cell_type": "markdown",
   "metadata": {},
   "source": [
    "## a) Crea una malla de 100x100, e interpola los datos del anillo y de los multiples anillos a esta malla. Grafíca los datos de la malla como gráfica de densidad y pon los puntos originales encimados. Llamaremos a esta malla y sus valores, el campo. Utiliza los tres métodos de interpolación: más cercano, lineal y cúbico 1D."
   ]
  },
  {
   "cell_type": "code",
   "execution_count": 11,
   "metadata": {},
   "outputs": [],
   "source": [
    "separacion = 5\n",
    "longitud = 100"
   ]
  },
  {
   "cell_type": "code",
   "execution_count": 8,
   "metadata": {},
   "outputs": [],
   "source": [
    "def construyecaja (l, s):\n",
    "    nxlado = int(l / s)\n",
    "    ntot = nxlado ** 2\n",
    "    px = []\n",
    "    py = []\n",
    "    c = 1\n",
    "    for i in range(1, nxlado):\n",
    "        for j in range(1, nxlado):\n",
    "            px.append(separacion * i)\n",
    "            py.append(separacion * j)\n",
    "            c += 1\n",
    "    return px, py  \n",
    "\n",
    "def construyeanillo(radio, radioint, n):\n",
    "    xx2 = []\n",
    "    yy2 = []\n",
    "    u = 0\n",
    "    while u < (n):\n",
    "        fx = np.random.uniform(-radio, radio)\n",
    "        fy = np.random.uniform(-radio, radio)\n",
    "        rad = math.sqrt(math.pow(fx, 2) + math.pow(fy, 2))\n",
    "        if rad <= radio:\n",
    "            if rad >= radioint:\n",
    "                xx2.append(fx)\n",
    "                yy2.append(fy)\n",
    "                u += 1\n",
    "    return xx2, yy2\n",
    "\n",
    "def construyearo(r, n):\n",
    "    xx = []\n",
    "    yy = []\n",
    "    da = 360/n\n",
    "    for i in range(0, n):\n",
    "        fx = r * math.cos((i * da)*np.pi/180)\n",
    "        fy = r * math.sin((i * da)*np.pi/180)\n",
    "        xx.append(fx)\n",
    "        yy.append(fy) \n",
    "    return xx, yy\n",
    "\n",
    "def esparceanillos(nanillos, longcaja, radioaros, pxanillo):\n",
    "    px, py = construyearo(radioaros, pxanillo)\n",
    "    x = []\n",
    "    y = []\n",
    "    for i in range(0, nanillos):\n",
    "        centrox = np.random.uniform(-longcaja/2, longcaja/2)\n",
    "        centroy = np.random.uniform(-longcaja/2, longcaja/2)\n",
    "        for j in range(0, pxanillo):\n",
    "            mx = px[j] + centrox\n",
    "            my = py[j] + centroy\n",
    "            x.append(mx)\n",
    "            y.append(my)\n",
    "    return x, y\n",
    "\n",
    "def construyeanillo(radio, radioint, n):\n",
    "    xx2 = []\n",
    "    yy2 = []\n",
    "    u = 0\n",
    "    while u < (n):\n",
    "        fx = np.random.uniform(-radio, radio)\n",
    "        fy = np.random.uniform(-radio, radio)\n",
    "        rad = math.sqrt(math.pow(fx, 2) + math.pow(fy, 2))\n",
    "        if rad <= radio:\n",
    "            if rad >= radioint:\n",
    "                xx2.append(fx)\n",
    "                yy2.append(fy)\n",
    "                u += 1\n",
    "    return xx2, yy2\n",
    "\n"
   ]
  },
  {
   "cell_type": "code",
   "execution_count": 24,
   "metadata": {},
   "outputs": [],
   "source": [
    "x, y = construyecaja (longitud, separacion)\n",
    "\n",
    "nanillos = 15\n",
    "pxanillo = len(x)\n",
    "ranillos = 15\n",
    "x9, y9 = esparceanillos(nanillos, longitud*2, ranillos, pxanillo)\n",
    "\n",
    "\n",
    "radio = 100\n",
    "radioint = 80\n",
    "n = len(x)\n",
    "xx2, yy2 = construyeanillo(radio, radioint, n)"
   ]
  },
  {
   "cell_type": "code",
   "execution_count": 22,
   "metadata": {},
   "outputs": [
    {
     "data": {
      "text/plain": [
       "[<matplotlib.lines.Line2D at 0x7fe2dbab73c8>]"
      ]
     },
     "execution_count": 22,
     "metadata": {},
     "output_type": "execute_result"
    },
    {
     "data": {
      "image/png": "[encoded data removed]",
      "text/plain": [
       "<Figure size 504x504 with 1 Axes>"
      ]
     },
     "metadata": {},
     "output_type": "display_data"
    }
   ],
   "source": [
    "q1 = np.linspace(0, 0, 2)\n",
    "q2 = np.linspace(0, longitud, 2)\n",
    "q3 = np.linspace(longitud, longitud, 2)\n",
    "\n",
    "plt.figure(figsize=(7, 7))\n",
    "plt.plot(q1, q2, color = 'g')\n",
    "plt.plot(q3, q2, color = 'g')\n",
    "plt.plot(q2, q3, color = 'g')\n",
    "plt.plot(q2, q1, color = 'g')\n",
    "\n",
    "plt.plot(x,y, \"bo\")"
   ]
  },
  {
   "cell_type": "code",
   "execution_count": 26,
   "metadata": {},
   "outputs": [
    {
     "data": {
      "text/plain": [
       "[<matplotlib.lines.Line2D at 0x7fe2db84dd68>]"
      ]
     },
     "execution_count": 26,
     "metadata": {},
     "output_type": "execute_result"
    },
    {
     "data": {
      "image/png": "[encoded data removed]",
      "text/plain": [
       "<Figure size 504x504 with 1 Axes>"
      ]
     },
     "metadata": {},
     "output_type": "display_data"
    }
   ],
   "source": [
    "q1 = np.linspace(-longitud, -longitud, 2)\n",
    "q2 = np.linspace(-longitud, longitud, 2)\n",
    "q3 = np.linspace(longitud, longitud, 2)\n",
    "\n",
    "plt.figure(figsize=(7, 7))\n",
    "\n",
    "plt.plot(q1, q2, color = 'g')\n",
    "plt.plot(q3, q2, color = 'g')\n",
    "plt.plot(q2, q3, color = 'g')\n",
    "plt.plot(q2, q1, color = 'g')\n",
    "plt.plot(x9,y9, \",\")\n"
   ]
  },
  {
   "cell_type": "code",
   "execution_count": 20,
   "metadata": {},
   "outputs": [
    {
     "data": {
      "text/plain": [
       "[<matplotlib.lines.Line2D at 0x7fe2db8b6ba8>]"
      ]
     },
     "execution_count": 20,
     "metadata": {},
     "output_type": "execute_result"
    },
    {
     "data": {
      "image/png": "[encoded data removed]",
      "text/plain": [
       "<Figure size 504x504 with 1 Axes>"
      ]
     },
     "metadata": {},
     "output_type": "display_data"
    }
   ],
   "source": [
    "plt.figure(figsize=(7, 7))\n",
    "plt.plot(xx2,yy2, \"*\")"
   ]
  },
  {
   "cell_type": "code",
   "execution_count": null,
   "metadata": {},
   "outputs": [],
   "source": []
  },
  {
   "cell_type": "code",
   "execution_count": null,
   "metadata": {},
   "outputs": [],
   "source": []
  },
  {
   "cell_type": "markdown",
   "metadata": {},
   "source": [
    "## b) Calcula la función de correlación (estimador de Landy-Salay) para ambas muestras de datos usando los putos de la malla, y asignando un peso en cada punto dado por el valor del campo en ese punto. Grafica la función de correlación obtenida por este método de malla y compárala en la misma gráfica con la obtenida en base a los puntos originales. ¿Se parecen? ¿Dónde cambia? ¿Cómo cambia con los diferentes métodos de interpolación?"
   ]
  },
  {
   "cell_type": "code",
   "execution_count": null,
   "metadata": {},
   "outputs": [],
   "source": [
    "def flasz(xm, ym, xr, yr, lcaja, nb):\n",
    "    lmax = np.sqrt(2 * lcaja ** 2)  # Longitud maxima que puede haber en la caja\n",
    "    nrd = len(xr)\n",
    "    n = len(xm)\n",
    "    dmalla = []\n",
    "    drandom = []\n",
    "    co = []\n",
    "    \n",
    "    dmalla = distancia(xm, ym) # Calculamos la distancia entre los puntos del arreglo en malla\n",
    "    drandom = distancia(xr, yr) # Calculamos la distancia entre los puntos del arreglo de puntos aleatorios\n",
    "    ddr = distanciadr(xm, ym, xr, yr) # Calculamos la distancia entre los puntos ordenados y los aleatorios\n",
    "    \n",
    "    dd, nbm = np.histogram(dmalla, bins = nb)\n",
    "    rr, nbr = np.histogram(drandom, bins = nb)\n",
    "    dr, nbrd = np.histogram(ddr, bins = nb)\n",
    "    \n",
    "    plt.figure()\n",
    "    plt.figure(figsize=(15,5))\n",
    "    plt.hist(dmalla, bins=nb, color = 'm' , alpha =0.5, label='$DD(r)$')\n",
    "    plt.hist(drandom, bins=nb, color = 'g' , alpha =0.5, label='$RR(r)$')\n",
    "    plt.hist(ddr, bins=nb, color = 'r' , alpha =0.5, label='$DDR(r)$')\n",
    "    plt.legend()\n",
    "\n",
    "    co = 1 + (dd / rr) * ((nrd / n) ** 2) - 2 * (dr / rr) * (nrd / n) # Calculamos la funcion de correlacion entre los histogramas\n",
    "\n",
    "    x = np.linspace(0, lmax, len(co))\n",
    "\n",
    "    plt.figure()\n",
    "    plt.figure(figsize=(15,5))\n",
    "    plt.plot(x, co, 'bo-', label='$Landy - Szalay$', color = 'k')\n",
    "    #plt.xlim(0, 2100)\n",
    "    \n",
    "    return co"
   ]
  },
  {
   "cell_type": "code",
   "execution_count": null,
   "metadata": {},
   "outputs": [],
   "source": []
  },
  {
   "cell_type": "code",
   "execution_count": null,
   "metadata": {},
   "outputs": [],
   "source": []
  },
  {
   "cell_type": "code",
   "execution_count": null,
   "metadata": {},
   "outputs": [],
   "source": []
  },
  {
   "cell_type": "markdown",
   "metadata": {},
   "source": [
    "## c) Calcula la transformada de Fourier de este campo discreto (ie de la malla) para ambas muestras de datos, y obtén los espectros de potencia como el valor de expectación del producto de dos campos en este espacio de Fourier. Gráfica tanto el campo en el espacio de Fourier, como el espectro de potencias. ¿Cómo cambian los resultados del espectro de potencias con los diferentes métodos de interpolación?"
   ]
  },
  {
   "cell_type": "markdown",
   "metadata": {},
   "source": [
    "Definimos la funcion para la tranformada de fourier"
   ]
  },
  {
   "cell_type": "code",
   "execution_count": null,
   "metadata": {},
   "outputs": [],
   "source": [
    "def dft(x):\n",
    "    N, yr, yi = len(x), [], []\n",
    "    for k in range(N):\n",
    "        real, imag = 0, 0\n",
    "        for n in range(N):\n",
    "            theta = -k * (2 * math.pi) * (float(n) / N)\n",
    "            real += x[n] * math.cos(theta)\n",
    "            imag += x[n] * math.sin(theta)\n",
    "        yr.append(real / N) # Regresa la parte real\n",
    "        yi.append(imag / N) # Regresa la parte imaginaria\n",
    "    return yr, yi"
   ]
  },
  {
   "cell_type": "code",
   "execution_count": null,
   "metadata": {},
   "outputs": [],
   "source": []
  },
  {
   "cell_type": "code",
   "execution_count": null,
   "metadata": {},
   "outputs": [],
   "source": []
  },
  {
   "cell_type": "markdown",
   "metadata": {},
   "source": [
    "## d) Utiliza la transformada de Fourier inversa para encontrar la función de correlación a partir de los espectros de potencia anteriores, y compáralos con los que encontraste en el inciso."
   ]
  },
  {
   "cell_type": "markdown",
   "metadata": {},
   "source": [
    "Definimos la funcion pra la tranformada inversa de Fourier"
   ]
  },
  {
   "cell_type": "code",
   "execution_count": null,
   "metadata": {},
   "outputs": [],
   "source": [
    "def idft(yr, yi):\n",
    "    N, x = len(yr), []\n",
    "    for n in range(N):\n",
    "        real, imag = 0, 0\n",
    "        for k in range(N):\n",
    "            theta = k * (2 * math.pi) * (float(n) / N)\n",
    "            real += (yr[k] * math.cos(theta)) - (yi[k] * math.sin(theta))\n",
    "            # imag += (yr[k] * math.sin(theta)) + (yi[k] * math.cos(theta))\n",
    "        x.append(real)\n",
    "    return x"
   ]
  },
  {
   "cell_type": "code",
   "execution_count": null,
   "metadata": {},
   "outputs": [],
   "source": []
  },
  {
   "cell_type": "code",
   "execution_count": null,
   "metadata": {},
   "outputs": [],
   "source": []
  },
  {
   "cell_type": "code",
   "execution_count": null,
   "metadata": {},
   "outputs": [],
   "source": []
  },
  {
   "cell_type": "code",
   "execution_count": null,
   "metadata": {},
   "outputs": [],
   "source": []
  }
 ],
 "metadata": {
  "kernelspec": {
   "display_name": "Python 3",
   "language": "python",
   "name": "python3"
  },
  "language_info": {
   "codemirror_mode": {
    "name": "ipython",
    "version": 3
   },
   "file_extension": ".py",
   "mimetype": "text/x-python",
   "name": "python",
   "nbconvert_exporter": "python",
   "pygments_lexer": "ipython3",
   "version": "3.6.5"
  }
 },
 "nbformat": 4,
 "nbformat_minor": 2
}
